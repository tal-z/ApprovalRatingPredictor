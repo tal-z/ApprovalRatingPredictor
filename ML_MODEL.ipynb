{
 "cells": [
  {
   "cell_type": "code",
   "execution_count": 1,
   "id": "479753fb",
   "metadata": {},
   "outputs": [],
   "source": [
    "import numpy as np\n",
    "import pandas as pd\n",
    "from sklearn.tree import DecisionTreeClassifier\n",
    "from sklearn.model_selection import train_test_split"
   ]
  },
  {
   "cell_type": "code",
   "execution_count": 2,
   "id": "4695296c",
   "metadata": {},
   "outputs": [],
   "source": [
    "\n",
    "def fix_type(floatval):\n",
    "    return int(str(floatval).replace(\".\", \"\"))"
   ]
  },
  {
   "cell_type": "code",
   "execution_count": 3,
   "id": "125fc082",
   "metadata": {},
   "outputs": [],
   "source": [
    "approval_data = pd.read_csv('data/approval_topline.csv')\n",
    "approval_data = approval_data[approval_data[\"subgroup\"]==\"All polls\"]\n",
    "\n",
    "training_data, testing_data = train_test_split(approval_data, test_size=0.2, random_state=1)\n"
   ]
  },
  {
   "cell_type": "code",
   "execution_count": 4,
   "id": "6255504a",
   "metadata": {},
   "outputs": [
    {
     "data": {
      "text/html": [
       "<div>\n",
       "<style scoped>\n",
       "    .dataframe tbody tr th:only-of-type {\n",
       "        vertical-align: middle;\n",
       "    }\n",
       "\n",
       "    .dataframe tbody tr th {\n",
       "        vertical-align: top;\n",
       "    }\n",
       "\n",
       "    .dataframe thead th {\n",
       "        text-align: right;\n",
       "    }\n",
       "</style>\n",
       "<table border=\"1\" class=\"dataframe\">\n",
       "  <thead>\n",
       "    <tr style=\"text-align: right;\">\n",
       "      <th></th>\n",
       "      <th>approve_hi</th>\n",
       "      <th>approve_lo</th>\n",
       "      <th>disapprove_estimate</th>\n",
       "      <th>disapprove_hi</th>\n",
       "      <th>disapprove_lo</th>\n",
       "      <th>year</th>\n",
       "      <th>month</th>\n",
       "      <th>day</th>\n",
       "    </tr>\n",
       "  </thead>\n",
       "  <tbody>\n",
       "    <tr>\n",
       "      <th>242</th>\n",
       "      <td>47379959</td>\n",
       "      <td>37003116</td>\n",
       "      <td>51478173</td>\n",
       "      <td>57131323</td>\n",
       "      <td>45825023</td>\n",
       "      <td>2022</td>\n",
       "      <td>1</td>\n",
       "      <td>15</td>\n",
       "    </tr>\n",
       "    <tr>\n",
       "      <th>140</th>\n",
       "      <td>45870103</td>\n",
       "      <td>37232849</td>\n",
       "      <td>5311246</td>\n",
       "      <td>58075255</td>\n",
       "      <td>48149666</td>\n",
       "      <td>2022</td>\n",
       "      <td>2</td>\n",
       "      <td>18</td>\n",
       "    </tr>\n",
       "    <tr>\n",
       "      <th>656</th>\n",
       "      <td>51887455</td>\n",
       "      <td>42546311</td>\n",
       "      <td>47450365</td>\n",
       "      <td>52968756</td>\n",
       "      <td>41931974</td>\n",
       "      <td>2021</td>\n",
       "      <td>8</td>\n",
       "      <td>30</td>\n",
       "    </tr>\n",
       "    <tr>\n",
       "      <th>257</th>\n",
       "      <td>47243485</td>\n",
       "      <td>38948759</td>\n",
       "      <td>51528642</td>\n",
       "      <td>57475757</td>\n",
       "      <td>45581528</td>\n",
       "      <td>2022</td>\n",
       "      <td>1</td>\n",
       "      <td>10</td>\n",
       "    </tr>\n",
       "    <tr>\n",
       "      <th>1289</th>\n",
       "      <td>58884888</td>\n",
       "      <td>49677542</td>\n",
       "      <td>34557801</td>\n",
       "      <td>39161473</td>\n",
       "      <td>29954128</td>\n",
       "      <td>2021</td>\n",
       "      <td>1</td>\n",
       "      <td>31</td>\n",
       "    </tr>\n",
       "    <tr>\n",
       "      <th>...</th>\n",
       "      <td>...</td>\n",
       "      <td>...</td>\n",
       "      <td>...</td>\n",
       "      <td>...</td>\n",
       "      <td>...</td>\n",
       "      <td>...</td>\n",
       "      <td>...</td>\n",
       "      <td>...</td>\n",
       "    </tr>\n",
       "    <tr>\n",
       "      <th>767</th>\n",
       "      <td>5732853</td>\n",
       "      <td>47458804</td>\n",
       "      <td>42728752</td>\n",
       "      <td>4738388</td>\n",
       "      <td>38073625</td>\n",
       "      <td>2021</td>\n",
       "      <td>7</td>\n",
       "      <td>24</td>\n",
       "    </tr>\n",
       "    <tr>\n",
       "      <th>218</th>\n",
       "      <td>46785888</td>\n",
       "      <td>37849765</td>\n",
       "      <td>53365934</td>\n",
       "      <td>58544633</td>\n",
       "      <td>48187235</td>\n",
       "      <td>2022</td>\n",
       "      <td>1</td>\n",
       "      <td>23</td>\n",
       "    </tr>\n",
       "    <tr>\n",
       "      <th>1190</th>\n",
       "      <td>58418726</td>\n",
       "      <td>48696514</td>\n",
       "      <td>38642223</td>\n",
       "      <td>43994073</td>\n",
       "      <td>33290373</td>\n",
       "      <td>2021</td>\n",
       "      <td>3</td>\n",
       "      <td>5</td>\n",
       "    </tr>\n",
       "    <tr>\n",
       "      <th>707</th>\n",
       "      <td>54625997</td>\n",
       "      <td>45307378</td>\n",
       "      <td>43754522</td>\n",
       "      <td>49286955</td>\n",
       "      <td>3822209</td>\n",
       "      <td>2021</td>\n",
       "      <td>8</td>\n",
       "      <td>13</td>\n",
       "    </tr>\n",
       "    <tr>\n",
       "      <th>113</th>\n",
       "      <td>44562353</td>\n",
       "      <td>36331115</td>\n",
       "      <td>53334854</td>\n",
       "      <td>5835348</td>\n",
       "      <td>48316228</td>\n",
       "      <td>2022</td>\n",
       "      <td>2</td>\n",
       "      <td>27</td>\n",
       "    </tr>\n",
       "  </tbody>\n",
       "</table>\n",
       "<p>350 rows × 8 columns</p>\n",
       "</div>"
      ],
      "text/plain": [
       "      approve_hi  approve_lo  disapprove_estimate  disapprove_hi  \\\n",
       "242     47379959    37003116             51478173       57131323   \n",
       "140     45870103    37232849              5311246       58075255   \n",
       "656     51887455    42546311             47450365       52968756   \n",
       "257     47243485    38948759             51528642       57475757   \n",
       "1289    58884888    49677542             34557801       39161473   \n",
       "...          ...         ...                  ...            ...   \n",
       "767      5732853    47458804             42728752        4738388   \n",
       "218     46785888    37849765             53365934       58544633   \n",
       "1190    58418726    48696514             38642223       43994073   \n",
       "707     54625997    45307378             43754522       49286955   \n",
       "113     44562353    36331115             53334854        5835348   \n",
       "\n",
       "      disapprove_lo  year  month  day  \n",
       "242        45825023  2022      1   15  \n",
       "140        48149666  2022      2   18  \n",
       "656        41931974  2021      8   30  \n",
       "257        45581528  2022      1   10  \n",
       "1289       29954128  2021      1   31  \n",
       "...             ...   ...    ...  ...  \n",
       "767        38073625  2021      7   24  \n",
       "218        48187235  2022      1   23  \n",
       "1190       33290373  2021      3    5  \n",
       "707         3822209  2021      8   13  \n",
       "113        48316228  2022      2   27  \n",
       "\n",
       "[350 rows x 8 columns]"
      ]
     },
     "execution_count": 4,
     "metadata": {},
     "output_type": "execute_result"
    }
   ],
   "source": [
    "\n",
    "for col in training_data.columns[4:-1]:\n",
    "    training_data[col] = training_data[col].apply(fix_type)\n",
    "\n",
    "training_data['date'] = training_data['modeldate'].apply(lambda x: pd.to_datetime(x, dayfirst=True, format=\"%m/%d/%Y\"))\n",
    "training_data['year'] = training_data['date'].apply(lambda x: x.year)\n",
    "training_data['month'] = training_data['date'].apply(lambda x: x.month)\n",
    "training_data['day'] = training_data['date'].apply(lambda x: x.day)\n",
    "\n",
    "X = training_data.drop(columns=['approve_estimate', 'president', 'subgroup', 'modeldate', 'timestamp', 'date'])\n",
    "y = training_data['approve_estimate'].apply(fix_type)\n",
    "X"
   ]
  },
  {
   "cell_type": "code",
   "execution_count": 5,
   "id": "1efc43ab",
   "metadata": {},
   "outputs": [],
   "source": [
    "for col in testing_data.columns[4:-1]:\n",
    "    testing_data[col] = testing_data[col].apply(fix_type)\n",
    "\n",
    "testing_data['date'] = testing_data['modeldate'].apply(lambda x: pd.to_datetime(x, dayfirst=True, format=\"%m/%d/%Y\"))\n",
    "testing_data['year'] = testing_data['date'].apply(lambda x: x.year)\n",
    "testing_data['month'] = testing_data['date'].apply(lambda x: x.month)\n",
    "testing_data['day'] = testing_data['date'].apply(lambda x: x.day)\n",
    "\n",
    "tests_df = testing_data.drop(columns=['approve_estimate', 'president', 'subgroup', 'modeldate', 'timestamp', 'date'])\n"
   ]
  },
  {
   "cell_type": "code",
   "execution_count": 6,
   "id": "b38d0f4d",
   "metadata": {},
   "outputs": [
    {
     "name": "stderr",
     "output_type": "stream",
     "text": [
      "c:\\users\\pc\\pycharmprojects\\approvalratingpredictor\\venv\\lib\\site-packages\\sklearn\\base.py:450: UserWarning: X does not have valid feature names, but DecisionTreeClassifier was fitted with feature names\n",
      "  warnings.warn(\n"
     ]
    }
   ],
   "source": [
    "model = DecisionTreeClassifier()\n",
    "\n",
    "model.fit(X, y)\n",
    "#prediction = model.predict([[45883725,37321164,52726759, 57032258,4842126,2022,4,13]])\n",
    "predictions = model.predict(tests_df.values)"
   ]
  },
  {
   "cell_type": "code",
   "execution_count": 7,
   "id": "b52038d0",
   "metadata": {},
   "outputs": [],
   "source": [
    "predictions = [float(str(p)[:2]+\".\"+str(p)[2:]) for p in predictions]"
   ]
  },
  {
   "cell_type": "code",
   "execution_count": 8,
   "id": "bdf2a651",
   "metadata": {},
   "outputs": [
    {
     "data": {
      "text/plain": [
       "0.10958270454545449"
      ]
     },
     "execution_count": 8,
     "metadata": {},
     "output_type": "execute_result"
    }
   ],
   "source": [
    "np.mean([(test-prediction) for test, prediction in zip(testing_data['approve_estimate'], predictions)])"
   ]
  }
 ],
 "metadata": {
  "kernelspec": {
   "display_name": "Python 3 (ipykernel)",
   "language": "python",
   "name": "python3"
  },
  "language_info": {
   "codemirror_mode": {
    "name": "ipython",
    "version": 3
   },
   "file_extension": ".py",
   "mimetype": "text/x-python",
   "name": "python",
   "nbconvert_exporter": "python",
   "pygments_lexer": "ipython3",
   "version": "3.9.4"
  }
 },
 "nbformat": 4,
 "nbformat_minor": 5
}
