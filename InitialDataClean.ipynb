{
 "cells": [
  {
   "cell_type": "markdown",
   "id": "5f429697",
   "metadata": {},
   "source": [
    "# Cleaning FiveThirtyEight Biden Approval Rating Poll Data\n",
    "###### Parsing start/end dates using a combo of Python and OfficeLibre Calc (spreadsheet manipulation)"
   ]
  },
  {
   "cell_type": "code",
   "execution_count": 1,
   "id": "bbbb6b71",
   "metadata": {},
   "outputs": [],
   "source": [
    "import calendar\n",
    "import datetime\n",
    "\n",
    "import pandas as pd"
   ]
  },
  {
   "cell_type": "code",
   "execution_count": 2,
   "id": "6c39c5f6",
   "metadata": {},
   "outputs": [],
   "source": [
    "months = {month.upper(): index for index, month in enumerate(calendar.month_abbr) if month}\n"
   ]
  },
  {
   "cell_type": "code",
   "execution_count": 3,
   "id": "a68a7263",
   "metadata": {},
   "outputs": [],
   "source": [
    "\n",
    "def find_start_end_date(datestring):\n",
    "    if not datestring:\n",
    "        return '', ''\n",
    "    \n",
    "    else:\n",
    "        count_letters = 0\n",
    "        if type(datestring)==str:\n",
    "            for digit in datestring:\n",
    "                if digit.isalpha():\n",
    "                    count_letters += 1\n",
    "            if count_letters==3:\n",
    "                month, dayrange, year = datestring.split()\n",
    "                month_num = months[month.strip(\".\")]\n",
    "                start_str, end_str = dayrange.split(\"-\")\n",
    "                start_num, end_num, year_num = int(start_str), int(end_str), int(year)\n",
    "\n",
    "                start = datetime.date(year=year_num, month=month_num, day=start_num)\n",
    "                end = datetime.date(year=year_num, month=month_num, day=end_num)\n",
    "                return start, end\n",
    "\n",
    "            elif count_letters==6:\n",
    "                if datestring[-5] == \"-\":\n",
    "                    datestring = datestring[:-5]\n",
    "                year_num = int(datestring[-4:])\n",
    "                start_datestring, end_datestring = datestring.split(\"-\")\n",
    "                start_month, start_day = start_datestring.split()\n",
    "                start_month_num = months[start_month.strip(\".\")]\n",
    "                start_day_num = int(start_day)\n",
    "                end_month, end_day = end_datestring[:-4].split()\n",
    "                end_month_num = months[end_month.strip(\".\")]\n",
    "                end_day_num = int(end_day)\n",
    "\n",
    "                start = datetime.date(year=year_num, month=start_month_num, day=start_day_num)\n",
    "                end = datetime.date(year=year_num, month=end_month_num, day=end_day_num)\n",
    "                return start, end\n",
    "            else:\n",
    "                return \"this is weird: \" + datestring , \"this is weird: \" + datestring\n",
    "    return '', ''"
   ]
  },
  {
   "cell_type": "code",
   "execution_count": 4,
   "id": "177f84f7",
   "metadata": {},
   "outputs": [],
   "source": [
    "biden_approval_df = pd.read_csv('data/BidenApprovalData.csv')\n",
    "biden_approval_df['datestring'] = biden_approval_df['DATES'] + \" \" + biden_approval_df['YEAR']\n",
    "biden_approval_df['bothdates'] = biden_approval_df['datestring'].apply(find_start_end_date)\n",
    "biden_approval_df.dropna(how='all', inplace=True)\n",
    "biden_approval_df['start'] = biden_approval_df['bothdates'].apply(lambda x: list(x)[0])\n",
    "biden_approval_df['end'] = biden_approval_df['bothdates'].apply(lambda x: list(x)[-1])"
   ]
  },
  {
   "cell_type": "code",
   "execution_count": 5,
   "id": "4eb79c6f",
   "metadata": {},
   "outputs": [],
   "source": [
    "biden_approval_df.to_csv(\"data/interim_cleaned_data.csv\", index=False)"
   ]
  },
  {
   "cell_type": "markdown",
   "id": "61905616",
   "metadata": {},
   "source": [
    "###### Explode date ranges to individual rows (following interim step to fill in single-day poll start/end dates by hand)"
   ]
  },
  {
   "cell_type": "code",
   "execution_count": 6,
   "id": "0e334855",
   "metadata": {},
   "outputs": [],
   "source": [
    "biden_approval_df = pd.read_csv(\"data/interim_handcleaned_data.csv\")"
   ]
  },
  {
   "cell_type": "code",
   "execution_count": 7,
   "id": "92437c28",
   "metadata": {},
   "outputs": [],
   "source": [
    "biden_approval_df['clean_date'] = [pd.date_range(s, e, freq='d') for s, e in\n",
    "              zip(pd.to_datetime(biden_approval_df['start']),\n",
    "                  pd.to_datetime(biden_approval_df['end']))]\n",
    "\n",
    "biden_approval_df = biden_approval_df.explode('clean_date').drop(['start', 'end'], axis=1)"
   ]
  },
  {
   "cell_type": "markdown",
   "id": "5fd1bfc9",
   "metadata": {},
   "source": [
    "###### Fixing approval and disapproval values"
   ]
  },
  {
   "cell_type": "code",
   "execution_count": 8,
   "id": "1f4f6126",
   "metadata": {},
   "outputs": [],
   "source": [
    "biden_approval_df[\"APPROVE\"] = biden_approval_df[\"APPROVE\"].apply(lambda x: float(x.strip(\"%\")))\n",
    "biden_approval_df[\"DISAPPROVE\"] = biden_approval_df[\"DISAPPROVE\"].apply(lambda x: float(x.strip(\"%\")))\n",
    "biden_approval_df[\"ADJUSTED_APPROVE\"] = biden_approval_df[\"ADJUSTED_APPROVE\"].apply(lambda x: float(x.strip(\"%\")))\n",
    "biden_approval_df[\"ADJUSTED_DISAPPROVE\"] = biden_approval_df[\"ADJUSTED_DISAPPROVE\"].apply(lambda x: float(x.strip(\"%\")))\n",
    "\n"
   ]
  },
  {
   "cell_type": "code",
   "execution_count": 9,
   "id": "2f46a180",
   "metadata": {},
   "outputs": [],
   "source": [
    "biden_daily_approvals = biden_approval_df.groupby(\"clean_date\").mean()\n",
    "biden_daily_approvals['day'] = biden_daily_approvals.index.day\n",
    "biden_daily_approvals['month'] = biden_daily_approvals.index.month\n",
    "biden_daily_approvals['year'] = biden_daily_approvals.index.year"
   ]
  },
  {
   "cell_type": "code",
   "execution_count": 10,
   "id": "2324389b",
   "metadata": {},
   "outputs": [
    {
     "data": {
      "text/html": [
       "<div>\n",
       "<style scoped>\n",
       "    .dataframe tbody tr th:only-of-type {\n",
       "        vertical-align: middle;\n",
       "    }\n",
       "\n",
       "    .dataframe tbody tr th {\n",
       "        vertical-align: top;\n",
       "    }\n",
       "\n",
       "    .dataframe thead th {\n",
       "        text-align: right;\n",
       "    }\n",
       "</style>\n",
       "<table border=\"1\" class=\"dataframe\">\n",
       "  <thead>\n",
       "    <tr style=\"text-align: right;\">\n",
       "      <th></th>\n",
       "      <th>SAMPLE</th>\n",
       "      <th>WEIGHT</th>\n",
       "      <th>APPROVE</th>\n",
       "      <th>DISAPPROVE</th>\n",
       "      <th>ADJUSTED_APPROVE</th>\n",
       "      <th>ADJUSTED_DISAPPROVE</th>\n",
       "      <th>day</th>\n",
       "      <th>month</th>\n",
       "      <th>year</th>\n",
       "    </tr>\n",
       "    <tr>\n",
       "      <th>clean_date</th>\n",
       "      <th></th>\n",
       "      <th></th>\n",
       "      <th></th>\n",
       "      <th></th>\n",
       "      <th></th>\n",
       "      <th></th>\n",
       "      <th></th>\n",
       "      <th></th>\n",
       "      <th></th>\n",
       "    </tr>\n",
       "  </thead>\n",
       "  <tbody>\n",
       "    <tr>\n",
       "      <th>2021-01-20</th>\n",
       "      <td>4126.000000</td>\n",
       "      <td>0.824000</td>\n",
       "      <td>52.400000</td>\n",
       "      <td>30.400000</td>\n",
       "      <td>51.800000</td>\n",
       "      <td>32.000000</td>\n",
       "      <td>20</td>\n",
       "      <td>1</td>\n",
       "      <td>2021</td>\n",
       "    </tr>\n",
       "    <tr>\n",
       "      <th>2021-01-21</th>\n",
       "      <td>2598.600000</td>\n",
       "      <td>0.990000</td>\n",
       "      <td>54.200000</td>\n",
       "      <td>33.500000</td>\n",
       "      <td>53.700000</td>\n",
       "      <td>33.800000</td>\n",
       "      <td>21</td>\n",
       "      <td>1</td>\n",
       "      <td>2021</td>\n",
       "    </tr>\n",
       "    <tr>\n",
       "      <th>2021-01-22</th>\n",
       "      <td>2671.600000</td>\n",
       "      <td>0.907000</td>\n",
       "      <td>55.800000</td>\n",
       "      <td>34.400000</td>\n",
       "      <td>55.100000</td>\n",
       "      <td>34.800000</td>\n",
       "      <td>22</td>\n",
       "      <td>1</td>\n",
       "      <td>2021</td>\n",
       "    </tr>\n",
       "    <tr>\n",
       "      <th>2021-01-23</th>\n",
       "      <td>2863.888889</td>\n",
       "      <td>0.904444</td>\n",
       "      <td>55.222222</td>\n",
       "      <td>34.333333</td>\n",
       "      <td>54.888889</td>\n",
       "      <td>34.666667</td>\n",
       "      <td>23</td>\n",
       "      <td>1</td>\n",
       "      <td>2021</td>\n",
       "    </tr>\n",
       "    <tr>\n",
       "      <th>2021-01-24</th>\n",
       "      <td>2738.800000</td>\n",
       "      <td>1.053000</td>\n",
       "      <td>53.900000</td>\n",
       "      <td>34.500000</td>\n",
       "      <td>53.900000</td>\n",
       "      <td>34.800000</td>\n",
       "      <td>24</td>\n",
       "      <td>1</td>\n",
       "      <td>2021</td>\n",
       "    </tr>\n",
       "    <tr>\n",
       "      <th>...</th>\n",
       "      <td>...</td>\n",
       "      <td>...</td>\n",
       "      <td>...</td>\n",
       "      <td>...</td>\n",
       "      <td>...</td>\n",
       "      <td>...</td>\n",
       "      <td>...</td>\n",
       "      <td>...</td>\n",
       "      <td>...</td>\n",
       "    </tr>\n",
       "    <tr>\n",
       "      <th>2022-04-01</th>\n",
       "      <td>1810.500000</td>\n",
       "      <td>0.635000</td>\n",
       "      <td>40.500000</td>\n",
       "      <td>54.000000</td>\n",
       "      <td>40.500000</td>\n",
       "      <td>56.000000</td>\n",
       "      <td>1</td>\n",
       "      <td>4</td>\n",
       "      <td>2022</td>\n",
       "    </tr>\n",
       "    <tr>\n",
       "      <th>2022-04-02</th>\n",
       "      <td>1707.000000</td>\n",
       "      <td>0.790000</td>\n",
       "      <td>40.666667</td>\n",
       "      <td>52.666667</td>\n",
       "      <td>41.000000</td>\n",
       "      <td>54.333333</td>\n",
       "      <td>2</td>\n",
       "      <td>4</td>\n",
       "      <td>2022</td>\n",
       "    </tr>\n",
       "    <tr>\n",
       "      <th>2022-04-03</th>\n",
       "      <td>1655.250000</td>\n",
       "      <td>0.950000</td>\n",
       "      <td>41.000000</td>\n",
       "      <td>53.500000</td>\n",
       "      <td>41.750000</td>\n",
       "      <td>53.250000</td>\n",
       "      <td>3</td>\n",
       "      <td>4</td>\n",
       "      <td>2022</td>\n",
       "    </tr>\n",
       "    <tr>\n",
       "      <th>2022-04-04</th>\n",
       "      <td>1524.400000</td>\n",
       "      <td>0.932000</td>\n",
       "      <td>41.800000</td>\n",
       "      <td>52.800000</td>\n",
       "      <td>42.200000</td>\n",
       "      <td>52.800000</td>\n",
       "      <td>4</td>\n",
       "      <td>4</td>\n",
       "      <td>2022</td>\n",
       "    </tr>\n",
       "    <tr>\n",
       "      <th>2022-04-05</th>\n",
       "      <td>1333.666667</td>\n",
       "      <td>1.130000</td>\n",
       "      <td>42.666667</td>\n",
       "      <td>52.000000</td>\n",
       "      <td>43.333333</td>\n",
       "      <td>50.666667</td>\n",
       "      <td>5</td>\n",
       "      <td>4</td>\n",
       "      <td>2022</td>\n",
       "    </tr>\n",
       "  </tbody>\n",
       "</table>\n",
       "<p>439 rows × 9 columns</p>\n",
       "</div>"
      ],
      "text/plain": [
       "                 SAMPLE    WEIGHT    APPROVE  DISAPPROVE  ADJUSTED_APPROVE  \\\n",
       "clean_date                                                                   \n",
       "2021-01-20  4126.000000  0.824000  52.400000   30.400000         51.800000   \n",
       "2021-01-21  2598.600000  0.990000  54.200000   33.500000         53.700000   \n",
       "2021-01-22  2671.600000  0.907000  55.800000   34.400000         55.100000   \n",
       "2021-01-23  2863.888889  0.904444  55.222222   34.333333         54.888889   \n",
       "2021-01-24  2738.800000  1.053000  53.900000   34.500000         53.900000   \n",
       "...                 ...       ...        ...         ...               ...   \n",
       "2022-04-01  1810.500000  0.635000  40.500000   54.000000         40.500000   \n",
       "2022-04-02  1707.000000  0.790000  40.666667   52.666667         41.000000   \n",
       "2022-04-03  1655.250000  0.950000  41.000000   53.500000         41.750000   \n",
       "2022-04-04  1524.400000  0.932000  41.800000   52.800000         42.200000   \n",
       "2022-04-05  1333.666667  1.130000  42.666667   52.000000         43.333333   \n",
       "\n",
       "            ADJUSTED_DISAPPROVE  day  month  year  \n",
       "clean_date                                         \n",
       "2021-01-20            32.000000   20      1  2021  \n",
       "2021-01-21            33.800000   21      1  2021  \n",
       "2021-01-22            34.800000   22      1  2021  \n",
       "2021-01-23            34.666667   23      1  2021  \n",
       "2021-01-24            34.800000   24      1  2021  \n",
       "...                         ...  ...    ...   ...  \n",
       "2022-04-01            56.000000    1      4  2022  \n",
       "2022-04-02            54.333333    2      4  2022  \n",
       "2022-04-03            53.250000    3      4  2022  \n",
       "2022-04-04            52.800000    4      4  2022  \n",
       "2022-04-05            50.666667    5      4  2022  \n",
       "\n",
       "[439 rows x 9 columns]"
      ]
     },
     "execution_count": 10,
     "metadata": {},
     "output_type": "execute_result"
    }
   ],
   "source": [
    "biden_daily_approvals"
   ]
  },
  {
   "cell_type": "code",
   "execution_count": 11,
   "id": "2bce1db5",
   "metadata": {},
   "outputs": [
    {
     "data": {
      "text/plain": [
       "Index(['SAMPLE', 'WEIGHT', 'APPROVE', 'DISAPPROVE', 'ADJUSTED_APPROVE',\n",
       "       'ADJUSTED_DISAPPROVE', 'day', 'month', 'year'],\n",
       "      dtype='object')"
      ]
     },
     "execution_count": 11,
     "metadata": {},
     "output_type": "execute_result"
    }
   ],
   "source": [
    "biden_daily_approvals.columns"
   ]
  },
  {
   "cell_type": "code",
   "execution_count": 12,
   "id": "354c5341",
   "metadata": {},
   "outputs": [],
   "source": [
    "biden_daily_approvals.to_csv('data/biden_daily_approvals.csv')"
   ]
  },
  {
   "cell_type": "code",
   "execution_count": null,
   "id": "4f9d3cb1",
   "metadata": {},
   "outputs": [],
   "source": []
  }
 ],
 "metadata": {
  "kernelspec": {
   "display_name": "Python 3 (ipykernel)",
   "language": "python",
   "name": "python3"
  },
  "language_info": {
   "codemirror_mode": {
    "name": "ipython",
    "version": 3
   },
   "file_extension": ".py",
   "mimetype": "text/x-python",
   "name": "python",
   "nbconvert_exporter": "python",
   "pygments_lexer": "ipython3",
   "version": "3.9.4"
  }
 },
 "nbformat": 4,
 "nbformat_minor": 5
}
